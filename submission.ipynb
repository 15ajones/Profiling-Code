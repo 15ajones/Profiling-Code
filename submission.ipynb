{
 "cells": [
  {
   "cell_type": "markdown",
   "metadata": {},
   "source": [
    "(All programs were run on macOS, intel, 4 cores (8 logical cores), 8GB RAM)"
   ]
  },
  {
   "cell_type": "markdown",
   "metadata": {},
   "source": [
    "EXERCISE 1: Profiling the Julia Code"
   ]
  },
  {
   "cell_type": "code",
   "execution_count": 1,
   "metadata": {},
   "outputs": [
    {
     "name": "stdout",
     "output_type": "stream",
     "text": [
      "Results:\n",
      "time.time():  7.152557373046875e-07\n",
      "timeit:  2.5398912839591503e-07\n",
      "time.time_ns():  7.68e-07\n"
     ]
    }
   ],
   "source": [
    "# Task 1.1 Calculate the Clock Granularity of different Python Timers (on your system)\n",
    "\n",
    "# As part of the task measure and report the clock granularity (measured experimentally on your system) for 1) time.time(), 2) timeit and 3) time.time_ns() \n",
    "# (for the last one remember that time is outputted in ns!).\n",
    "\n",
    "import numpy as np\n",
    "import time\n",
    "from timeit import default_timer as timer\n",
    "\n",
    "def clock_granularity_time_time():\n",
    "   M = 200\n",
    "   timesfound = np.empty((M,))\n",
    "   for i in range(M):\n",
    "      t1 =  time.time()\n",
    "      t2 = time.time()\n",
    "      while (t2 - t1) < 1e-16: # if zero then we are below clock granularity, retake timing\n",
    "          t2 = time.time()\n",
    "      t1 = t2 # this is outside the loop\n",
    "      timesfound[i] = t1 # record the time stamp\n",
    "   minDelta = 1000000\n",
    "   Delta = np.diff(timesfound) # it should be cast to int only when needed\n",
    "   minDelta = Delta.min()\n",
    "   return minDelta\n",
    "\n",
    "def clock_granularity_timeit():\n",
    "   M = 200\n",
    "   timesfound = np.empty((M,))\n",
    "   for i in range(M):\n",
    "      t1 =  timer()\n",
    "      t2 = timer()\n",
    "      while (t2 - t1) < 1e-16: # if zero then we are below clock granularity, retake timing\n",
    "          t2 = timer()\n",
    "      t1 = t2 # this is outside the loop\n",
    "      timesfound[i] = t1 # record the time stamp\n",
    "   minDelta = 1000000\n",
    "   Delta = np.diff(timesfound) # it should be cast to int only when needed\n",
    "   minDelta = Delta.min()\n",
    "   return minDelta\n",
    "\n",
    "\n",
    "def clock_granularity_time_time_ns():\n",
    "   M = 200\n",
    "   timesfound = np.empty((M,))\n",
    "   for i in range(M):\n",
    "      t1 = time.time_ns()\n",
    "      t2 = time.time_ns()\n",
    "      while (t2 - t1) < 1e-16: # if zero then we are below clock granularity, retake timing\n",
    "          t2 = time.time_ns()\n",
    "      t1 = t2 # this is outside the loop\n",
    "      timesfound[i] = t1 # record the time stamp\n",
    "   minDelta = 1000000\n",
    "   Delta = np.diff(timesfound) # it should be cast to int only when needed\n",
    "   minDelta = Delta.min()\n",
    "   return minDelta\n",
    "\n",
    "granularity_time_time = clock_granularity_time_time()\n",
    "granularity_timeit = clock_granularity_timeit()\n",
    "granularity_time_time_ns = clock_granularity_time_time_ns() / 1_000_000_000\n",
    "print(\"Results:\")\n",
    "print(\"time.time(): \", granularity_time_time)\n",
    "print(\"timeit: \", granularity_timeit)\n",
    "print(\"time.time_ns(): \", granularity_time_time_ns)"
   ]
  },
  {
   "cell_type": "markdown",
   "metadata": {},
   "source": [
    "As we can see, the timeit timer has the smallest clock granularity therefore the highest precision. However, they are all within the same order of magnitude and so have the similar precision levels."
   ]
  },
  {
   "cell_type": "code",
   "execution_count": 2,
   "metadata": {},
   "outputs": [],
   "source": [
    "# Task 1.2 Timing the Julia set code functions.\n",
    "\n",
    "\"\"\"\n",
    "The goal is to time the calc_pure_python and calculate_z_serial_purepython. \n",
    "We ask you to develop a decorator to wrap the functions to be profiled for this task. \n",
    "Use the decorator to add timer functionality for time measurements with the best timer you found in the previous task. \n",
    "\n",
    "As part of the task:\n",
    "    - Develop the timer decorator \n",
    "    - Provide timing information for the two functions. Report averages and standard deviation. How does the standard deviation compare to the clock frequency?\n",
    "\"\"\"\n",
    "\n",
    "# ------------------------- JULIA CODE ----------------------------------------\n",
    "\"\"\"Julia set generator without optional PIL-based image drawing\"\"\"\n",
    "import time\n",
    "import numpy as np\n",
    "from functools import wraps\n",
    "from timeit import default_timer as timer\n",
    "\n",
    "# area of complex space to investigate\n",
    "x1, x2, y1, y2 = -1.8, 1.8, -1.8, 1.8\n",
    "c_real, c_imag = -0.62772, -.42193\n",
    "\n",
    "# decorator to time\n",
    "def timefn(fn):\n",
    "    @wraps(fn)\n",
    "    def measure_time(*args, **kwargs):\n",
    "        t1 = timer()\n",
    "        result = fn(*args, **kwargs)\n",
    "        t2 = timer()\n",
    "        timing = t2-t1\n",
    "        if fn.__name__ == \"calc_pure_python\":\n",
    "            calc_pure_python_timings.append(timing)\n",
    "        else:\n",
    "            calc_z_serial_timings.append(timing)\n",
    "        return result\n",
    "    return measure_time\n",
    "\n",
    "@timefn\n",
    "def calc_pure_python(desired_width, max_iterations):\n",
    "    \"\"\"Create a list of complex coordinates (zs) and complex parameters (cs),\n",
    "    build Julia set\"\"\"\n",
    "    x_step = (x2 - x1) / desired_width\n",
    "    y_step = (y1 - y2) / desired_width\n",
    "    x = []\n",
    "    y = []\n",
    "    ycoord = y2\n",
    "    while ycoord > y1:\n",
    "        y.append(ycoord)\n",
    "        ycoord += y_step\n",
    "    xcoord = x1\n",
    "    while xcoord < x2:\n",
    "        x.append(xcoord)\n",
    "        xcoord += x_step\n",
    "    # build a list of coordinates and the initial condition for each cell.\n",
    "    # Note that our initial condition is a constant and could easily be removed,\n",
    "    # we use it to simulate a real-world scenario with several inputs to our\n",
    "    # function\n",
    "\n",
    "    zs = []\n",
    "    cs = []\n",
    "    for ycoord in y:\n",
    "        for xcoord in x:\n",
    "            zs.append(complex(xcoord, ycoord))\n",
    "            cs.append(complex(c_real, c_imag))\n",
    "\n",
    "    output = calculate_z_serial_purepython(max_iterations, zs, cs)\n",
    "\n",
    "    # This sum is expected for a 1000^2 grid with 300 iterations\n",
    "    # It ensures that our code evolves exactly as we'd intended\n",
    "    # assert sum(output) == 33219980\n",
    "\n",
    "@timefn\n",
    "def calculate_z_serial_purepython(maxiter, zs, cs):\n",
    "    \"\"\"Calculate output list using Julia update rule\"\"\"\n",
    "    output = [0] * len(zs)\n",
    "    for i in range(len(zs)):\n",
    "        n = 0\n",
    "        z = zs[i]\n",
    "        c = cs[i]\n",
    "        while abs(z) < 2 and n < maxiter:\n",
    "            z = z * z + c\n",
    "            n += 1\n",
    "        output[i] = n\n",
    "    return output\n",
    "\n",
    "if __name__ == \"__main__\":\n",
    "\n",
    "    # Calculate the Julia set using a pure Python solution with\n",
    "    # reasonable defaults for a laptop\n",
    "    calc_pure_python_timings = []\n",
    "    calc_z_serial_timings = []\n",
    "    \n",
    "    for i in range(100):\n",
    "        calc_pure_python(desired_width=1000, max_iterations=300)\n",
    "    \n",
    "    calc_pure_python_timings = np.array(calc_pure_python_timings)\n",
    "    calc_z_serial_timings = np.array(calc_z_serial_timings)\n",
    "\n",
    "    calc_pure_python_mean = np.mean(calc_pure_python_timings)\n",
    "    calc_z_serial_mean = np.mean(calc_z_serial_timings)\n",
    "\n",
    "    calc_pure_python_std = np.std(calc_pure_python_timings)\n",
    "    calc_z_serial_std = np.std(calc_z_serial_timings)\n",
    "\n",
    "  \n",
    "    print(\"average time taken to execute calc_pure_python: \", calc_pure_python_mean)\n",
    "    print(\"average time taken to execute calc_z_serial: \", calc_z_serial_mean)\n",
    "\n",
    "    print(\"standard deviation of time taken to execute calc_pure_python: \", calc_pure_python_std)\n",
    "    print(\"standard deviation of time taken to execute calc_z_serial:\", calc_z_serial_std)\n",
    "\n",
    "# -------------------------------------------------------------------------------"
   ]
  },
  {
   "cell_type": "code",
   "execution_count": null,
   "metadata": {},
   "outputs": [],
   "source": [
    "# Task 1.3 Profile the Julia set code with cProfile and line_profiler the computation\n",
    "\n",
    "\"\"\"\n",
    "Use the cProfile and line_profiler to profile the computation in JuliaSet code.\n",
    "\n",
    "As part of the task:\n",
    "\n",
    "     -  Report the results of cProfile and line_profiler (for the two functions)\n",
    "\n",
    "     - Use SnakeViz to visualize the profiling information from cProfile\n",
    "\n",
    "     - Measure the overhead added by using cProfile and line_profiler. For this, you can time the code with and without  the profilers \n",
    "\"\"\"\n",
    "\n",
    "#---------- Profiling using cprofile ------------\n",
    "#To print cProfile data in the terminal:\n",
    "!python3 -m cProfile -s cumulative JuliaSet.py"
   ]
  },
  {
   "cell_type": "code",
   "execution_count": null,
   "metadata": {},
   "outputs": [],
   "source": [
    "#To have cProfile output performance statistics to a file:\n",
    "!python3 -m cProfile -o profile.stats JuliaSet.py"
   ]
  },
  {
   "cell_type": "code",
   "execution_count": null,
   "metadata": {},
   "outputs": [],
   "source": [
    "#Then, we can either use the \"readStats.py\" file to sort and display the data in terminal:\n",
    "!pip3 install pstats\n",
    "!python3 readStats.py"
   ]
  },
  {
   "cell_type": "code",
   "execution_count": null,
   "metadata": {},
   "outputs": [],
   "source": [
    "\n",
    "#Or we can use snakeviz to visualise the data, which displays the data on a browser page\n",
    "!pip3 install snakeviz\n",
    "!python3 -m snakeviz profile.stats --server"
   ]
  },
  {
   "cell_type": "code",
   "execution_count": null,
   "metadata": {},
   "outputs": [],
   "source": [
    "#---------- Profiling using line profiler ------------\n",
    "# By adding \"@profile\" in the line above the calc_pure_python and calculate_z_serial_purepython functions, we get data on the duration of each line within these functions\n",
    "# We print this data to terminal by using the following two commands:\n",
    "# (JuliaSetWithProfile.py is identical to JuliaSet.py, but with the profile wrapper added to the functions)\n",
    "!python3 -m kernprof -l JuliaSetWithProfile.py\n",
    "!python3 -m line_profiler JuliaSetWithProfile.py.lprof"
   ]
  },
  {
   "cell_type": "code",
   "execution_count": 10,
   "metadata": {},
   "outputs": [
    {
     "name": "stdout",
     "output_type": "stream",
     "text": [
      "function took this long: \n",
      "0.014415491983527318\n",
      "function took this long: \n",
      "0.03183580600307323\n",
      "function took this long: \n",
      "0.19322470400948077\n",
      "Wrote profile results to JuliaSetTimingLineProfile.py.lprof\n",
      "Inspect results with:\n",
      "python3 -m line_profiler -rmt \"JuliaSetTimingLineProfile.py.lprof\"\n"
     ]
    }
   ],
   "source": [
    "# #---------- Measuring the overhead of using these two tools: ------------\n",
    "# #The file JuliaSetTiming.py is identical to JuliaSet.py, but it also measures the time it takes to execute the calc_pure_python function\n",
    "# #Without any tools:\n",
    "print(\"Without timing, calc_pure_python takes this long in seconds:\")\n",
    "!python3 JuliaSetTiming.py\n",
    "\n",
    "#Using c profile tool:\n",
    "print(\"Using the c profile tool, calc_pure_python takes this long in seconds:\")\n",
    "!python3 -m cProfile -o profile.stats JuliaSetTiming.py\n",
    "\n",
    "#Using line profiling tool: (we use JuliaSetTimingLineProfile because it also incudes the @profile wraps needed)\n",
    "print(\"Using the line profiling tool, calc_pure_python takes this long in seconds:\")\n",
    "!python3 -m kernprof -l JuliaSetTimingLineProfile.py"
   ]
  },
  {
   "cell_type": "markdown",
   "metadata": {},
   "source": [
    "We can see from the results that the timeit timer has the smallest granularity, and is therefore the most accurate. However, all of the results are in the same order of magnitude, and so are very similar."
   ]
  },
  {
   "cell_type": "code",
   "execution_count": 1,
   "metadata": {},
   "outputs": [
    {
     "name": "stdout",
     "output_type": "stream",
     "text": [
      "Length of x: 100\n",
      "Total elements: 10000\n",
      "calculate_z_serial_purepython took 0.010776042938232422 seconds\n",
      "Wrote profile results to JuliaSet.py.lprof\n",
      "Inspect results with:\n",
      "python3 -m line_profiler -rmt \"JuliaSet.py.lprof\"\n",
      "Timer unit: 1e-06 s\n",
      "\n"
     ]
    }
   ],
   "source": [
    "#Task 1.4 Memory-profile the Juliaset code. Use the memory_profiler and mprof to profile the computation in JuliaSet code\n",
    "\"\"\"\n",
    "Use memory_profiler to profile the memory usage for the two functions and use mprof to collect and visualize the profiling information.\n",
    "\n",
    "As part of the task:\n",
    "\n",
    "    - Report the memory profiling results from memory_profiler and mprof (including the plot)\n",
    "\n",
    "    - Measure the overhead of memory_profiler and mprof.\n",
    "\"\"\"\n",
    "!pip3 install memory_profiler\n",
    "!pip3 install psutil\n"
   ]
  },
  {
   "cell_type": "code",
   "execution_count": 22,
   "metadata": {},
   "outputs": [
    {
     "name": "stdout",
     "output_type": "stream",
     "text": [
      "Length of x: 100\n",
      "Total elements: 10000\n",
      "calculate_z_serial_purepython took 6.672461986541748 seconds\n",
      "Filename: JuliaSetWithProfile.py\n",
      "\n",
      "Line #    Mem usage    Increment  Occurrences   Line Contents\n",
      "=============================================================\n",
      "    20   38.664 MiB   38.664 MiB           1   @profile\n",
      "    21                                         def calc_pure_python(desired_width, max_iterations):\n",
      "    22                                             \"\"\"Create a list of complex coordinates (zs) and complex parameters (cs),\n",
      "    23                                             build Julia set\"\"\"\n",
      "    24   38.668 MiB    0.004 MiB           1       x_step = (x2 - x1) / desired_width\n",
      "    25   38.668 MiB    0.000 MiB           1       y_step = (y1 - y2) / desired_width\n",
      "    26   38.668 MiB    0.000 MiB           1       x = []\n",
      "    27   38.668 MiB    0.000 MiB           1       y = []\n",
      "    28   38.668 MiB    0.000 MiB           1       ycoord = y2\n",
      "    29   38.672 MiB    0.004 MiB         101       while ycoord > y1:\n",
      "    30   38.672 MiB    0.000 MiB         100           y.append(ycoord)\n",
      "    31   38.672 MiB    0.000 MiB         100           ycoord += y_step\n",
      "    32   38.672 MiB    0.000 MiB           1       xcoord = x1\n",
      "    33   38.672 MiB    0.000 MiB         101       while xcoord < x2:\n",
      "    34   38.672 MiB    0.000 MiB         100           x.append(xcoord)\n",
      "    35   38.672 MiB    0.000 MiB         100           xcoord += x_step\n",
      "    36                                             # build a list of coordinates and the initial condition for each cell.\n",
      "    37                                             # Note that our initial condition is a constant and could easily be removed,\n",
      "    38                                             # we use it to simulate a real-world scenario with several inputs to our\n",
      "    39                                             # function\n",
      "    40   38.672 MiB    0.000 MiB           1       zs = []\n",
      "    41   38.672 MiB    0.000 MiB           1       cs = []\n",
      "    42   39.656 MiB    0.000 MiB         101       for ycoord in y:\n",
      "    43   39.656 MiB    0.000 MiB       10100           for xcoord in x:\n",
      "    44   39.656 MiB    0.203 MiB       10000               zs.append(complex(xcoord, ycoord))\n",
      "    45   39.656 MiB    0.781 MiB       10000               cs.append(complex(c_real, c_imag))\n",
      "    46                                         \n",
      "    47   39.656 MiB    0.000 MiB           1       print(\"Length of x:\", len(x))\n",
      "    48   39.656 MiB    0.000 MiB           1       print(\"Total elements:\", len(zs))\n",
      "    49   39.656 MiB    0.000 MiB           1       start_time = time.time()\n",
      "    50   39.742 MiB   39.742 MiB           1       output = calculate_z_serial_purepython(max_iterations, zs, cs)\n",
      "    51   39.742 MiB    0.000 MiB           1       end_time = time.time()\n",
      "    52   39.742 MiB    0.000 MiB           1       secs = end_time - start_time\n",
      "    53   39.762 MiB    0.020 MiB           1       print(calculate_z_serial_purepython.__name__ + \" took\", secs, \"seconds\")\n",
      "    54                                         \n",
      "    55                                             # This sum is expected for a 1000^2 grid with 300 iterations\n",
      "    56                                             # It ensures that our code evolves exactly as we'd intended\n",
      "    57                                             # assert sum(output) == 33219980\n",
      "\n",
      "\n",
      "Filename: JuliaSetWithProfile.py\n",
      "\n",
      "Line #    Mem usage    Increment  Occurrences   Line Contents\n",
      "=============================================================\n",
      "    58   39.656 MiB   39.656 MiB           1   @profile\n",
      "    59                                         def calculate_z_serial_purepython(maxiter, zs, cs):\n",
      "    60                                             \"\"\"Calculate output list using Julia update rule\"\"\"\n",
      "    61   39.734 MiB    0.078 MiB           1       output = [0] * len(zs)\n",
      "    62   39.742 MiB    0.000 MiB       10001       for i in range(len(zs)):\n",
      "    63   39.742 MiB    0.000 MiB       10000           n = 0\n",
      "    64   39.742 MiB    0.000 MiB       10000           z = zs[i]\n",
      "    65   39.742 MiB    0.000 MiB       10000           c = cs[i]\n",
      "    66   39.742 MiB    0.004 MiB       66182           while abs(z) < 2 and n < maxiter:\n",
      "    67   39.742 MiB    0.004 MiB       56182               z = z * z + c\n",
      "    68   39.742 MiB    0.000 MiB       56182               n += 1\n",
      "    69   39.742 MiB    0.000 MiB       10000           output[i] = n\n",
      "    70   39.742 MiB    0.000 MiB           1       return output\n",
      "\n",
      "\n"
     ]
    }
   ],
   "source": [
    "#Using memory profiler\n",
    "!python3 -m memory_profiler JuliaSetWithProfile.py"
   ]
  },
  {
   "cell_type": "code",
   "execution_count": 20,
   "metadata": {},
   "outputs": [
    {
     "name": "stdout",
     "output_type": "stream",
     "text": [
      "mprof.py: Sampling memory every 0.1s\n",
      "running new process\n",
      "running as a Python program...\n",
      "Length of x: 100\n",
      "Total elements: 10000\n",
      "calculate_z_serial_purepython took 0.010042190551757812 seconds\n"
     ]
    }
   ],
   "source": [
    "# This command saves the output to a file named mprofile_20240130... or similar\n",
    "!python3 -m mprof run JuliaSet.py"
   ]
  },
  {
   "cell_type": "code",
   "execution_count": 21,
   "metadata": {},
   "outputs": [
    {
     "name": "stdout",
     "output_type": "stream",
     "text": [
      "Figure(1260x540)\n"
     ]
    }
   ],
   "source": [
    "# Change the name of the file at the end of this command to be identical with the one produced by the previous command\n",
    "!python3 -m mprof plot mprofile_20240130190552.dat"
   ]
  },
  {
   "cell_type": "code",
   "execution_count": 24,
   "metadata": {},
   "outputs": [
    {
     "name": "stdout",
     "output_type": "stream",
     "text": [
      "Without timing, calc_pure_python takes this long in seconds:\n",
      "0.015067812986671925\n",
      "Using the memory profile tool, calc_pure_python takes this long in seconds:\n",
      "6.589824572991347\n",
      "Filename: JuliaSetTimingLineProfile.py\n",
      "\n",
      "Line #    Mem usage    Increment  Occurrences   Line Contents\n",
      "=============================================================\n",
      "    60   49.043 MiB   49.043 MiB           1   @profile\n",
      "    61                                         def calculate_z_serial_purepython(maxiter, zs, cs):\n",
      "    62                                             \"\"\"Calculate output list using Julia update rule\"\"\"\n",
      "    63   49.047 MiB    0.004 MiB           1       output = [0] * len(zs)\n",
      "    64   49.062 MiB    0.000 MiB       10001       for i in range(len(zs)):\n",
      "    65   49.062 MiB    0.000 MiB       10000           n = 0\n",
      "    66   49.062 MiB    0.000 MiB       10000           z = zs[i]\n",
      "    67   49.062 MiB    0.000 MiB       10000           c = cs[i]\n",
      "    68   49.062 MiB    0.012 MiB       66182           while abs(z) < 2 and n < maxiter:\n",
      "    69   49.062 MiB    0.004 MiB       56182               z = z * z + c\n",
      "    70   49.062 MiB    0.000 MiB       56182               n += 1\n",
      "    71   49.062 MiB    0.000 MiB       10000           output[i] = n\n",
      "    72   49.062 MiB    0.000 MiB           1       return output\n",
      "\n",
      "\n",
      "Using the mprof tool, calc_pure_python takes this long in seconds:\n",
      "mprof.py: Sampling memory every 0.1s\n",
      "running new process\n",
      "running as a Python program...\n",
      "0.014444613974774256\n"
     ]
    }
   ],
   "source": [
    "# #---------- Measuring the overhead of using these two tools: ------------\n",
    "# #The file JuliaSetTiming.py is identical to JuliaSet.py, but it also measures the time it takes to execute the calc_pure_python function\n",
    "# #Without any tools:\n",
    "print(\"Without timing, calc_pure_python takes this long in seconds:\")\n",
    "!python3 JuliaSetTiming.py\n",
    "\n",
    "#Using memory profile tool:\n",
    "print(\"Using the memory profile tool, calc_pure_python takes this long in seconds:\")\n",
    "!python3 -m memory_profiler JuliaSetTimingLineProfile.py\n",
    "\n",
    "#Using mprof tool: (we use JuliaSetTimingLineProfile because it also incudes the @profile wraps needed)\n",
    "print(\"Using the mprof tool, calc_pure_python takes this long in seconds:\")\n",
    "!python3 -m mprof run JuliaSetTiming.py"
   ]
  },
  {
   "cell_type": "markdown",
   "metadata": {},
   "source": [
    "EXERCISE 2: PROFILING DIFFUSION PROCESS CODE"
   ]
  },
  {
   "cell_type": "code",
   "execution_count": 4,
   "metadata": {},
   "outputs": [
    {
     "name": "stdout",
     "output_type": "stream",
     "text": [
      "i =  0\n",
      "i =  1\n",
      "i =  2\n",
      "i =  3\n",
      "i =  4\n",
      "i =  5\n",
      "i =  6\n",
      "i =  7\n",
      "i =  8\n",
      "i =  9\n",
      "         35 function calls in 4.069 seconds\n",
      "\n",
      "   Ordered by: cumulative time\n",
      "\n",
      "   ncalls  tottime  percall  cumtime  percall filename:lineno(function)\n",
      "        1    0.000    0.000    4.069    4.069 {built-in method builtins.exec}\n",
      "        1    0.006    0.006    4.069    4.069 diffusion.py:1(<module>)\n",
      "        1    0.042    0.042    4.063    4.063 diffusion.py:16(run_experiment)\n",
      "       10    3.995    0.400    4.018    0.402 diffusion.py:2(evolve)\n",
      "       10    0.023    0.002    0.023    0.002 diffusion.py:4(<listcomp>)\n",
      "        1    0.003    0.003    0.003    0.003 diffusion.py:19(<listcomp>)\n",
      "       10    0.000    0.000    0.000    0.000 {built-in method builtins.print}\n",
      "        1    0.000    0.000    0.000    0.000 {method 'disable' of '_lsprof.Profiler' objects}\n",
      "\n",
      "\n"
     ]
    }
   ],
   "source": [
    "#---------- 2.1 Profiling using cProfile ------------\n",
    "#To print cProfile data in the terminal:\n",
    "!python3 -m cProfile -s cumulative diffusion.py"
   ]
  },
  {
   "cell_type": "code",
   "execution_count": 5,
   "metadata": {},
   "outputs": [
    {
     "name": "stdout",
     "output_type": "stream",
     "text": [
      "i =  0\n",
      "i =  1\n",
      "i =  2\n",
      "i =  3\n",
      "i =  4\n",
      "i =  5\n",
      "i =  6\n",
      "i =  7\n",
      "i =  8\n",
      "i =  9\n"
     ]
    }
   ],
   "source": [
    "#To have cProfile output performance statistics to a file:\n",
    "!python3 -m cProfile -o profile.stats diffusion.py"
   ]
  },
  {
   "cell_type": "code",
   "execution_count": 6,
   "metadata": {},
   "outputs": [
    {
     "name": "stdout",
     "output_type": "stream",
     "text": [
      "\u001b[33mDEPRECATION: Configuring installation scheme with distutils config files is deprecated and will no longer work in the near future. If you are using a Homebrew or Linuxbrew Python, please see discussion at https://github.com/Homebrew/homebrew-core/issues/76621\u001b[0m\u001b[33m\n",
      "\u001b[0m\u001b[31mERROR: Could not find a version that satisfies the requirement pstats (from versions: none)\u001b[0m\u001b[31m\n",
      "\u001b[0m\u001b[31mERROR: No matching distribution found for pstats\u001b[0m\u001b[31m\n",
      "\u001b[0m\u001b[33mWARNING: There was an error checking the latest version of pip.\u001b[0m\u001b[33m\n",
      "\u001b[0mTue Jan 30 18:51:13 2024    profile.stats\n",
      "\n",
      "         35 function calls in 4.182 seconds\n",
      "\n",
      "   Ordered by: cumulative time\n",
      "\n",
      "   ncalls  tottime  percall  cumtime  percall filename:lineno(function)\n",
      "        1    0.000    0.000    4.182    4.182 {built-in method builtins.exec}\n",
      "        1    0.005    0.005    4.182    4.182 diffusion.py:1(<module>)\n",
      "        1    0.043    0.043    4.177    4.177 diffusion.py:16(run_experiment)\n",
      "       10    4.117    0.412    4.132    0.413 diffusion.py:2(evolve)\n",
      "       10    0.014    0.001    0.014    0.001 diffusion.py:4(<listcomp>)\n",
      "        1    0.002    0.002    0.002    0.002 diffusion.py:19(<listcomp>)\n",
      "       10    0.000    0.000    0.000    0.000 {built-in method builtins.print}\n",
      "        1    0.000    0.000    0.000    0.000 {method 'disable' of '_lsprof.Profiler' objects}\n",
      "\n",
      "\n"
     ]
    }
   ],
   "source": [
    "#Then, we can either use the \"readStats.py\" file to sort and display the data in terminal:\n",
    "!pip3 install pstats\n",
    "!python3 readStats.py"
   ]
  },
  {
   "cell_type": "code",
   "execution_count": 7,
   "metadata": {},
   "outputs": [
    {
     "name": "stdout",
     "output_type": "stream",
     "text": [
      "\u001b[33mDEPRECATION: Configuring installation scheme with distutils config files is deprecated and will no longer work in the near future. If you are using a Homebrew or Linuxbrew Python, please see discussion at https://github.com/Homebrew/homebrew-core/issues/76621\u001b[0m\u001b[33m\n",
      "\u001b[0mRequirement already satisfied: snakeviz in /usr/local/lib/python3.9/site-packages (2.2.0)\n",
      "Requirement already satisfied: tornado>=2.0 in /usr/local/lib/python3.9/site-packages (from snakeviz) (6.4)\n",
      "\u001b[33mDEPRECATION: Configuring installation scheme with distutils config files is deprecated and will no longer work in the near future. If you are using a Homebrew or Linuxbrew Python, please see discussion at https://github.com/Homebrew/homebrew-core/issues/76621\u001b[0m\u001b[33m\n",
      "\u001b[0m\u001b[33mWARNING: There was an error checking the latest version of pip.\u001b[0m\u001b[33m\n",
      "\u001b[0msnakeviz web server started on 127.0.0.1:8080; enter Ctrl-C to exit\n",
      "http://127.0.0.1:8080/snakeviz/%2FUsers%2F15ajones0201%2FDocuments%2FProfiling-Code%2Fprofile.stats\n",
      "^C\n",
      "\n",
      "Bye!\n"
     ]
    }
   ],
   "source": [
    "#Or we can use snakeviz to visualise the data, which displays the data on a browser page\n",
    "!pip3 install snakeviz\n",
    "!python3 -m snakeviz profile.stats --server"
   ]
  },
  {
   "cell_type": "code",
   "execution_count": 8,
   "metadata": {},
   "outputs": [
    {
     "name": "stdout",
     "output_type": "stream",
     "text": [
      "\u001b[33mDEPRECATION: Configuring installation scheme with distutils config files is deprecated and will no longer work in the near future. If you are using a Homebrew or Linuxbrew Python, please see discussion at https://github.com/Homebrew/homebrew-core/issues/76621\u001b[0m\u001b[33m\n",
      "\u001b[0mCollecting line_profiler\n",
      "  Downloading line_profiler-4.1.2-cp39-cp39-macosx_10_9_x86_64.whl (132 kB)\n",
      "\u001b[2K     \u001b[90m━━━━━━━━━━━━━━━━━━━━━━━━━━━━━━━━━━━━━━━\u001b[0m \u001b[32m132.1/132.1 kB\u001b[0m \u001b[31m3.7 MB/s\u001b[0m eta \u001b[36m0:00:00\u001b[0m\n",
      "\u001b[?25hInstalling collected packages: line_profiler\n",
      "\u001b[33m  DEPRECATION: Configuring installation scheme with distutils config files is deprecated and will no longer work in the near future. If you are using a Homebrew or Linuxbrew Python, please see discussion at https://github.com/Homebrew/homebrew-core/issues/76621\u001b[0m\u001b[33m\n",
      "\u001b[0m\u001b[33mDEPRECATION: Configuring installation scheme with distutils config files is deprecated and will no longer work in the near future. If you are using a Homebrew or Linuxbrew Python, please see discussion at https://github.com/Homebrew/homebrew-core/issues/76621\u001b[0m\u001b[33m\n",
      "\u001b[0mSuccessfully installed line_profiler-4.1.2\n",
      "\u001b[33mWARNING: There was an error checking the latest version of pip.\u001b[0m\u001b[33m\n",
      "\u001b[0mi =  0\n",
      "i =  1\n",
      "i =  2\n",
      "i =  3\n",
      "i =  4\n",
      "i =  5\n",
      "i =  6\n",
      "i =  7\n",
      "i =  8\n",
      "i =  9\n",
      "Wrote profile results to diffusionWithProfile.py.lprof\n",
      "Inspect results with:\n",
      "python3 -m line_profiler -rmt \"diffusionWithProfile.py.lprof\"\n"
     ]
    }
   ],
   "source": [
    "#---------- Profiling using line profiler ------------\n",
    "!pip3 install line_profiler\n",
    "!python3 -m kernprof -l diffusionWithProfile.py"
   ]
  },
  {
   "cell_type": "code",
   "execution_count": 10,
   "metadata": {},
   "outputs": [
    {
     "name": "stdout",
     "output_type": "stream",
     "text": [
      "Requirement already satisfied: memory_profiler in /Library/Frameworks/Python.framework/Versions/3.10/lib/python3.10/site-packages (0.61.0)\n",
      "Requirement already satisfied: psutil in /Library/Frameworks/Python.framework/Versions/3.10/lib/python3.10/site-packages (from memory_profiler) (5.9.8)\n",
      "^C\n",
      "\u001b[31mERROR: Operation cancelled by user\u001b[0m\u001b[31m\n",
      "\u001b[0mRequirement already satisfied: psutil in /Library/Frameworks/Python.framework/Versions/3.10/lib/python3.10/site-packages (5.9.8)\n"
     ]
    }
   ],
   "source": [
    "#--------- 2.2: Memory profiler ------------\n",
    "!pip3 install memory_profiler\n",
    "!pip3 install psutil"
   ]
  },
  {
   "cell_type": "code",
   "execution_count": 12,
   "metadata": {},
   "outputs": [
    {
     "name": "stdout",
     "output_type": "stream",
     "text": [
      "i =  0\n",
      "i =  1\n",
      "i =  2\n",
      "i =  3\n",
      "i =  4\n",
      "i =  5\n",
      "i =  6\n",
      "i =  7\n",
      "i =  8\n",
      "i =  9\n"
     ]
    }
   ],
   "source": [
    "# Memory profiler. Large overhead, so a smaller problem size was used\n",
    "!python3 -m memory_profiler diffusion_smaller.py"
   ]
  },
  {
   "cell_type": "code",
   "execution_count": 13,
   "metadata": {},
   "outputs": [
    {
     "name": "stdout",
     "output_type": "stream",
     "text": [
      "mprof.py: Sampling memory every 0.1s\n",
      "running new process\n",
      "running as a Python program...\n",
      "i =  0\n",
      "i =  1\n",
      "i =  2\n",
      "i =  3\n",
      "i =  4\n",
      "i =  5\n",
      "i =  6\n",
      "i =  7\n",
      "i =  8\n",
      "i =  9\n"
     ]
    }
   ],
   "source": [
    "# This command saves the output to a file named mprofile_20240130... or similar\n",
    "!python3 -m mprof run diffusion.py"
   ]
  },
  {
   "cell_type": "code",
   "execution_count": 16,
   "metadata": {},
   "outputs": [
    {
     "name": "stdout",
     "output_type": "stream",
     "text": [
      "Figure(1260x540)\n"
     ]
    }
   ],
   "source": [
    "# Change the name of the file to be identical with the one produced by the previous command\n",
    "!python3 -m mprof plot mprofile_20240130185310.dat"
   ]
  },
  {
   "cell_type": "markdown",
   "metadata": {},
   "source": [
    "Bonus Exercise: Develop your profiler tool for monitoring CPU percentage use with psutil"
   ]
  },
  {
   "cell_type": "code",
   "execution_count": null,
   "metadata": {},
   "outputs": [
    {
     "name": "stdout",
     "output_type": "stream",
     "text": [
      "number of cores is:  8\n",
      "done\n"
     ]
    },
    {
     "name": "stdout",
     "output_type": "stream",
     "text": [
      "times:\n",
      "[0.0, 2.019690990447998, 4.0398640632629395, 6.061202049255371, 8.079986095428467, 10.101186990737915, 12.11588716506958, 14.134951114654541, 16.15485405921936, 18.175689935684204, 20.195611000061035, 22.216203927993774, 24.232745885849, 26.251216173171997]\n",
      "core results:\n",
      "[array([74.3, 70.6, 57.4, 68. , 65.3, 60.8, 64.4, 62. , 64.7, 61. , 66.7,\n",
      "       80.2, 87.1, 85.1]), array([14.9,  8. ,  5. ,  6.9,  7.9,  5. ,  5.1,  6.9,  7. ,  6.9,  5.9,\n",
      "       15.7, 13.9, 11.9]), array([68.3, 64.4, 52. , 59.8, 59. , 54.5, 60.4, 57.8, 59.4, 56. , 57.4,\n",
      "       78. , 84.3, 80.2]), array([ 9.9,  7. ,  4. ,  5. ,  6.9,  5. ,  5.9,  5. ,  6.9,  5. ,  5.9,\n",
      "       12.9, 13.9, 11.9]), array([71.3, 64.7, 52. , 57.8, 60. , 53.5, 54.5, 55.4, 56.4, 56.9, 57.4,\n",
      "       77.2, 84.2, 79.2]), array([11.9,  8.8,  3. ,  5.9,  5. ,  5. ,  5. ,  4. ,  5.9,  5. ,  4. ,\n",
      "       15.8, 12.9,  8.9]), array([65.7, 64.7, 47.5, 57.4, 55.9, 50. , 50.5, 52. , 57.4, 51.5, 52.9,\n",
      "       73.3, 83.2, 80.2]), array([11.9,  6. ,  3.9,  5. ,  5.9,  5.9,  5. ,  5. ,  5. ,  5. ,  5.9,\n",
      "       16. , 14.6, 11.9])]\n"
     ]
    },
    {
     "data": {
      "image/png": "[encoded data removed]",
      "text/plain": [
       "<Figure size 432x288 with 1 Axes>"
      ]
     },
     "metadata": {
      "needs_background": "light"
     },
     "output_type": "display_data"
    }
   ],
   "source": [
    "# BONUS - Develop your profiler tool for monitoring CPU percentage use with psutil\n",
    "\n",
    "# ------------------------- JULIA CODE ----------------------------------------\n",
    "\"\"\"Julia set generator without optional PIL-based image drawing\"\"\"\n",
    "import time\n",
    "import psutil\n",
    "import numpy as np\n",
    "from functools import wraps\n",
    "from timeit import default_timer as timer\n",
    "import threading\n",
    "import matplotlib.pyplot as plt \n",
    "\n",
    "# area of complex space to investigate\n",
    "x1, x2, y1, y2 = -1.8, 1.8, -1.8, 1.8\n",
    "c_real, c_imag = -0.62772, -.42193\n",
    "\n",
    "\n",
    "def calc_pure_python(desired_width, max_iterations):\n",
    "    \"\"\"Create a list of complex coordinates (zs) and complex parameters (cs),\n",
    "    build Julia set\"\"\"\n",
    "    x_step = (x2 - x1) / desired_width\n",
    "    y_step = (y1 - y2) / desired_width\n",
    "    x = []\n",
    "    y = []\n",
    "    ycoord = y2\n",
    "    while ycoord > y1:\n",
    "        y.append(ycoord)\n",
    "        ycoord += y_step\n",
    "    xcoord = x1\n",
    "    while xcoord < x2:\n",
    "        x.append(xcoord)\n",
    "        xcoord += x_step\n",
    "    # build a list of coordinates and the initial condition for each cell.\n",
    "    # Note that our initial condition is a constant and could easily be removed,\n",
    "    # we use it to simulate a real-world scenario with several inputs to our\n",
    "    # function\n",
    "\n",
    "    zs = []\n",
    "    cs = []\n",
    "    for ycoord in y:\n",
    "        for xcoord in x:\n",
    "            zs.append(complex(xcoord, ycoord))\n",
    "            cs.append(complex(c_real, c_imag))\n",
    "\n",
    "    output = calculate_z_serial_purepython(max_iterations, zs, cs)\n",
    "\n",
    "    # This sum is expected for a 1000^2 grid with 300 iterations\n",
    "    # It ensures that our code evolves exactly as we'd intended\n",
    "    # assert sum(output) == 33219980\n",
    "\n",
    "def calculate_z_serial_purepython(maxiter, zs, cs):\n",
    "    \"\"\"Calculate output list using Julia update rule\"\"\"\n",
    "    output = [0] * len(zs)\n",
    "    for i in range(len(zs)):\n",
    "        n = 0\n",
    "        z = zs[i]\n",
    "        c = cs[i]\n",
    "        while abs(z) < 2 and n < maxiter:\n",
    "            z = z * z + c\n",
    "            n += 1\n",
    "        output[i] = n\n",
    "    return output\n",
    "\n",
    "\n",
    "if __name__ == \"__main__\":\n",
    "    num_cores = psutil.cpu_count()\n",
    "    print(\"number of cores is: \", num_cores)\n",
    "\n",
    "    def count_cpu_usage():\n",
    "        #This thread monitors cpu usage while running the julia set code. every second it reads the cpu usage value for each core,\n",
    "        #until the julia set code terminates, and function_active becomes false\n",
    "        #afterwards, it plots a usage vs time graph for each of the cores.\n",
    "        results = []\n",
    "        times = []\n",
    "        start_time = time.time()\n",
    "        while function_active:\n",
    "            current_time = time.time()-start_time\n",
    "            x = psutil.cpu_percent(interval=1, percpu=True)\n",
    "            times.append(current_time)\n",
    "            results.append(x)\n",
    "            time.sleep(1)\n",
    "        results = np.array(results)\n",
    "        print(\"times:\")\n",
    "        print(times)\n",
    "        core_results = [results[:, i] for i in range(results.shape[1])]\n",
    "        print(\"core results:\")\n",
    "        print(core_results)\n",
    "        for i, core_result in enumerate(core_results):\n",
    "            label = \"core  \" + str(i)\n",
    "            plt.plot(times, core_result, label=label)\n",
    "        plt.xlabel('Time')\n",
    "        plt.ylabel('core usage')\n",
    "        plt.show()\n",
    "\n",
    "\n",
    "    function_active = True\n",
    "    #create and start the thread that monitors cpu usage\n",
    "    t = threading.Thread(target=count_cpu_usage)\n",
    "    t.start()\n",
    "    #calculate julia set\n",
    "    calc_pure_python(desired_width=2000, max_iterations=300)\n",
    "    #inform the thread that monitors usage that the program has terminated\n",
    "    function_active = False\n",
    "    print(\"done\")\n",
    "\n",
    "\n",
    "\n",
    "\n",
    "# -------------------------------------------------------------------------------"
   ]
  }
 ],
 "metadata": {
  "kernelspec": {
   "display_name": "Python 3",
   "language": "python",
   "name": "python3"
  },
  "language_info": {
   "codemirror_mode": {
    "name": "ipython",
    "version": 3
   },
   "file_extension": ".py",
   "mimetype": "text/x-python",
   "name": "python",
   "nbconvert_exporter": "python",
   "pygments_lexer": "ipython3",
   "version": "3.10.0"
  }
 },
 "nbformat": 4,
 "nbformat_minor": 2
}
