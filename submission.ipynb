{
 "cells": [
  {
   "cell_type": "markdown",
   "metadata": {},
   "source": [
    "(All programs were run on macOS, intel, 4 cores (8 logical cores), 8GB RAM)"
   ]
  },
  {
   "cell_type": "markdown",
   "metadata": {},
   "source": [
    "EXERCISE 1: Profiling the Julia Code"
   ]
  },
  {
   "cell_type": "code",
   "execution_count": null,
   "metadata": {},
   "outputs": [],
   "source": [
    "# Task 1.1 Calculate the Clock Granularity of different Python Timers (on your system)\n",
    "\n",
    "# As part of the task measure and report the clock granularity (measured experimentally on your system) for 1) time.time(), 2) timeit and 3) time.time_ns() \n",
    "# (for the last one remember that time is outputted in ns!).\n",
    "\n",
    "import numpy as np\n",
    "import time\n",
    "from timeit import default_timer as timer\n",
    "\n",
    "def clock_granularity_time_time():\n",
    "   M = 200\n",
    "   timesfound = np.empty((M,))\n",
    "   for i in range(M):\n",
    "      t1 =  time.time()\n",
    "      t2 = time.time()\n",
    "      while (t2 - t1) < 1e-16: # if zero then we are below clock granularity, retake timing\n",
    "          t2 = time.time()\n",
    "      t1 = t2 # this is outside the loop\n",
    "      timesfound[i] = t1 # record the time stamp\n",
    "   minDelta = 1000000\n",
    "   Delta = np.diff(timesfound) # it should be cast to int only when needed\n",
    "   minDelta = Delta.min()\n",
    "   return minDelta\n",
    "\n",
    "def clock_granularity_timeit():\n",
    "   M = 200\n",
    "   timesfound = np.empty((M,))\n",
    "   for i in range(M):\n",
    "      t1 =  timer()\n",
    "      t2 = timer()\n",
    "      while (t2 - t1) < 1e-16: # if zero then we are below clock granularity, retake timing\n",
    "          t2 = timer()\n",
    "      t1 = t2 # this is outside the loop\n",
    "      timesfound[i] = t1 # record the time stamp\n",
    "   minDelta = 1000000\n",
    "   Delta = np.diff(timesfound) # it should be cast to int only when needed\n",
    "   minDelta = Delta.min()\n",
    "   return minDelta\n",
    "\n",
    "\n",
    "def clock_granularity_time_time_ns():\n",
    "   M = 200\n",
    "   timesfound = np.empty((M,))\n",
    "   for i in range(M):\n",
    "      t1 = time.time_ns()\n",
    "      t2 = time.time_ns()\n",
    "      while (t2 - t1) < 1e-16: # if zero then we are below clock granularity, retake timing\n",
    "          t2 = time.time_ns()\n",
    "      t1 = t2 # this is outside the loop\n",
    "      timesfound[i] = t1 # record the time stamp\n",
    "   minDelta = 1000000\n",
    "   Delta = np.diff(timesfound) # it should be cast to int only when needed\n",
    "   minDelta = Delta.min()\n",
    "   return minDelta\n",
    "\n",
    "granularity_time_time = clock_granularity_time_time()\n",
    "granularity_timeit = clock_granularity_timeit()\n",
    "granularity_time_time_ns = clock_granularity_time_time_ns() / 1_000_000_000\n",
    "print(\"Results:\")\n",
    "print(\"time.time(): \", granularity_time_time)\n",
    "print(\"timeit: \", granularity_timeit)\n",
    "print(\"time.time_ns(): \", granularity_time_time_ns)"
   ]
  },
  {
   "cell_type": "code",
   "execution_count": null,
   "metadata": {},
   "outputs": [],
   "source": [
    "# Task 1.2 Timing the Julia set code functions.\n",
    "\n",
    "\"\"\"\n",
    "The goal is to time the calc_pure_python and calculate_z_serial_purepython. \n",
    "We ask you to develop a decorator to wrap the functions to be profiled for this task. \n",
    "Use the decorator to add timer functionality for time measurements with the best timer you found in the previous task. \n",
    "\n",
    "As part of the task:\n",
    "    - Develop the timer decorator \n",
    "    - Provide timing information for the two functions. Report averages and standard deviation. How does the standard deviation compare to the clock frequency?\n",
    "\"\"\"\n",
    "\n",
    "# ------------------------- JULIA CODE ----------------------------------------\n",
    "\"\"\"Julia set generator without optional PIL-based image drawing\"\"\"\n",
    "import time\n",
    "import numpy as np\n",
    "from functools import wraps\n",
    "from timeit import default_timer as timer\n",
    "\n",
    "# area of complex space to investigate\n",
    "x1, x2, y1, y2 = -1.8, 1.8, -1.8, 1.8\n",
    "c_real, c_imag = -0.62772, -.42193\n",
    "\n",
    "# decorator to time\n",
    "def timefn(fn):\n",
    "    @wraps(fn)\n",
    "    def measure_time(*args, **kwargs):\n",
    "        t1 = timer()\n",
    "        result = fn(*args, **kwargs)\n",
    "        t2 = timer()\n",
    "        timing = t2-t1\n",
    "        if fn.__name__ == \"calc_pure_python\":\n",
    "            calc_pure_python_timings.append(timing)\n",
    "        else:\n",
    "            calc_z_serial_timings.append(timing)\n",
    "        return result\n",
    "    return measure_time\n",
    "\n",
    "@timefn\n",
    "def calc_pure_python(desired_width, max_iterations):\n",
    "    \"\"\"Create a list of complex coordinates (zs) and complex parameters (cs),\n",
    "    build Julia set\"\"\"\n",
    "    x_step = (x2 - x1) / desired_width\n",
    "    y_step = (y1 - y2) / desired_width\n",
    "    x = []\n",
    "    y = []\n",
    "    ycoord = y2\n",
    "    while ycoord > y1:\n",
    "        y.append(ycoord)\n",
    "        ycoord += y_step\n",
    "    xcoord = x1\n",
    "    while xcoord < x2:\n",
    "        x.append(xcoord)\n",
    "        xcoord += x_step\n",
    "    # build a list of coordinates and the initial condition for each cell.\n",
    "    # Note that our initial condition is a constant and could easily be removed,\n",
    "    # we use it to simulate a real-world scenario with several inputs to our\n",
    "    # function\n",
    "\n",
    "    zs = []\n",
    "    cs = []\n",
    "    for ycoord in y:\n",
    "        for xcoord in x:\n",
    "            zs.append(complex(xcoord, ycoord))\n",
    "            cs.append(complex(c_real, c_imag))\n",
    "\n",
    "    output = calculate_z_serial_purepython(max_iterations, zs, cs)\n",
    "\n",
    "    # This sum is expected for a 1000^2 grid with 300 iterations\n",
    "    # It ensures that our code evolves exactly as we'd intended\n",
    "    # assert sum(output) == 33219980\n",
    "\n",
    "@timefn\n",
    "def calculate_z_serial_purepython(maxiter, zs, cs):\n",
    "    \"\"\"Calculate output list using Julia update rule\"\"\"\n",
    "    output = [0] * len(zs)\n",
    "    for i in range(len(zs)):\n",
    "        n = 0\n",
    "        z = zs[i]\n",
    "        c = cs[i]\n",
    "        while abs(z) < 2 and n < maxiter:\n",
    "            z = z * z + c\n",
    "            n += 1\n",
    "        output[i] = n\n",
    "    return output\n",
    "\n",
    "if __name__ == \"__main__\":\n",
    "\n",
    "    # Calculate the Julia set using a pure Python solution with\n",
    "    # reasonable defaults for a laptop\n",
    "    calc_pure_python_timings = []\n",
    "    calc_z_serial_timings = []\n",
    "    \n",
    "    for i in range(100):\n",
    "        calc_pure_python(desired_width=1000, max_iterations=300)\n",
    "    \n",
    "    calc_pure_python_timings = np.array(calc_pure_python_timings)\n",
    "    calc_z_serial_timings = np.array(calc_z_serial_timings)\n",
    "\n",
    "    calc_pure_python_mean = np.mean(calc_pure_python_timings)\n",
    "    calc_z_serial_mean = np.mean(calc_z_serial_timings)\n",
    "\n",
    "    calc_pure_python_std = np.std(calc_pure_python_timings)\n",
    "    calc_z_serial_std = np.std(calc_z_serial_timings)\n",
    "\n",
    "    print(\"calc pure: \", calc_pure_python_timings)\n",
    "    print(\"calc_serial: \", calc_z_serial_timings)\n",
    "\n",
    "    print(\"calc pure mean: \", calc_pure_python_mean)\n",
    "    print(\"calc_serial mean: \", calc_z_serial_mean)\n",
    "\n",
    "    print(\"calc pure std: \", calc_pure_python_std)\n",
    "    print(\"calc_serial std: \", calc_z_serial_std)\n",
    "\n",
    "# -------------------------------------------------------------------------------"
   ]
  },
  {
   "cell_type": "code",
   "execution_count": null,
   "metadata": {},
   "outputs": [],
   "source": [
    "# Task 1.3 Profile the Julia set code with cProfile and line_profiler the computation\n",
    "\n",
    "\"\"\"\n",
    "Use the cProfile and line_profiler to profile the computation in JuliaSet code.\n",
    "\n",
    "As part of the task:\n",
    "\n",
    "     -  Report the results of cProfile and line_profiler (for the two functions)\n",
    "\n",
    "     - Use SnakeViz to visualize the profiling information from cProfile\n",
    "\n",
    "     - Measure the overhead added by using cProfile and line_profiler. For this, you can time the code with and without  the profilers \n",
    "\"\"\"\n",
    "\n",
    "#---------- Profiling using cprofile ------------\n",
    "#To print cProfile data in the terminal:\n",
    "!python3 -m cProfile -s cumulative JuliaSet.py"
   ]
  },
  {
   "cell_type": "code",
   "execution_count": null,
   "metadata": {},
   "outputs": [],
   "source": [
    "#To have cProfile output performance statistics to a file:\n",
    "!python3 -m cProfile -o profile.stats JuliaSet.py"
   ]
  },
  {
   "cell_type": "code",
   "execution_count": null,
   "metadata": {},
   "outputs": [],
   "source": [
    "#Then, we can either use the \"readStats.py\" file to sort and display the data in terminal:\n",
    "!pip3 install pstats\n",
    "!python3 readStats.py"
   ]
  },
  {
   "cell_type": "code",
   "execution_count": null,
   "metadata": {},
   "outputs": [],
   "source": [
    "\n",
    "#Or we can use snakeviz to visualise the data, which displays the data on a browser page\n",
    "!pip3 install snakeviz\n",
    "!python3 -m snakeviz profile.stats --server"
   ]
  },
  {
   "cell_type": "code",
   "execution_count": null,
   "metadata": {},
   "outputs": [],
   "source": [
    "#---------- Profiling using line profiler ------------\n",
    "# By adding \"@profile\" in the line above the calc_pure_python and calculate_z_serial_purepython functions, we get data on the duration of each line within these functions\n",
    "# We print this data to terminal by using the following two commands:\n",
    "# (JuliaSetWithProfile.py is identical to JuliaSet.py, but with the profile wrapper added to the functions)\n",
    "!python3 -m kernprof -l JuliaSetWithProfile.py\n",
    "!python3 -m line_profiler JuliaSetWithProfile.py.lprof"
   ]
  },
  {
   "cell_type": "code",
   "execution_count": 10,
   "metadata": {},
   "outputs": [
    {
     "name": "stdout",
     "output_type": "stream",
     "text": [
      "function took this long: \n",
      "0.014415491983527318\n",
      "function took this long: \n",
      "0.03183580600307323\n",
      "function took this long: \n",
      "0.19322470400948077\n",
      "Wrote profile results to JuliaSetTimingLineProfile.py.lprof\n",
      "Inspect results with:\n",
      "python3 -m line_profiler -rmt \"JuliaSetTimingLineProfile.py.lprof\"\n"
     ]
    }
   ],
   "source": [
    "# #---------- Measuring the overhead of using these two tools: ------------\n",
    "# #The file JuliaSetTiming.py is identical to JuliaSet.py, but it also measures the time it takes to execute the calc_pure_python function\n",
    "# #Without any tools:\n",
    "print(\"Without timing, calc_pure_python takes this long in seconds:\")\n",
    "!python3 JuliaSetTiming.py\n",
    "\n",
    "#Using c profile tool:\n",
    "print(\"Using the c profile tool, calc_pure_python takes this long in seconds:\")\n",
    "!python3 -m cProfile -o profile.stats JuliaSetTiming.py\n",
    "\n",
    "#Using line profiling tool: (we use JuliaSetTimingLineProfile because it also incudes the @profile wraps needed)\n",
    "print(\"Using the line profiling tool, calc_pure_python takes this long in seconds:\")\n",
    "!python3 -m kernprof -l JuliaSetTimingLineProfile.py"
   ]
  },
  {
   "cell_type": "markdown",
   "metadata": {},
   "source": [
    "We can see from the results that the timeit timer has the smallest granularity, and is therefore the most accurate. However, all of the results are in the same order of magnitude, and so are very similar."
   ]
  },
  {
   "cell_type": "code",
   "execution_count": 1,
   "metadata": {},
   "outputs": [
    {
     "name": "stdout",
     "output_type": "stream",
     "text": [
      "Length of x: 100\n",
      "Total elements: 10000\n",
      "calculate_z_serial_purepython took 0.010776042938232422 seconds\n",
      "Wrote profile results to JuliaSet.py.lprof\n",
      "Inspect results with:\n",
      "python3 -m line_profiler -rmt \"JuliaSet.py.lprof\"\n",
      "Timer unit: 1e-06 s\n",
      "\n"
     ]
    }
   ],
   "source": [
    "#Task 1.4 Memory-profile the Juliaset code. Use the memory_profiler and mprof to profile the computation in JuliaSet code\n",
    "\"\"\"\n",
    "Use memory_profiler to profile the memory usage for the two functions and use mprof to collect and visualize the profiling information.\n",
    "\n",
    "As part of the task:\n",
    "\n",
    "    - Report the memory profiling results from memory_profiler and mprof (including the plot)\n",
    "\n",
    "    - Measure the overhead of memory_profiler and mprof.\n",
    "\"\"\"\n",
    "# !pip3 install memory_profiler\n",
    "# !pip3 install psutil\n",
    "#Add profile decorator before each function you want to analyse\n",
    "!python3 -m kernprof -l JuliaSet.py\n",
    "!python3 -m line_profiler -rmt JuliaSet.py.lprof"
   ]
  },
  {
   "cell_type": "markdown",
   "metadata": {},
   "source": [
    "EXERCISE 2: PROFILING DIFFUSION PROCESS CODE"
   ]
  },
  {
   "cell_type": "code",
   "execution_count": null,
   "metadata": {},
   "outputs": [],
   "source": [
    "#---------- 2.1 Profiling using cProfile ------------\n",
    "#To print cProfile data in the terminal:\n",
    "!python3 -m cProfile -s diffusion.py"
   ]
  },
  {
   "cell_type": "code",
   "execution_count": null,
   "metadata": {},
   "outputs": [],
   "source": [
    "#To have cProfile output performance statistics to a file:\n",
    "!python3 -m cProfile -o profile.stats diffusion.py"
   ]
  },
  {
   "cell_type": "code",
   "execution_count": null,
   "metadata": {},
   "outputs": [],
   "source": [
    "#Then, we can either use the \"readStats.py\" file to sort and display the data in terminal:\n",
    "!pip3 install pstats\n",
    "!python3 readStats.py"
   ]
  },
  {
   "cell_type": "code",
   "execution_count": null,
   "metadata": {},
   "outputs": [],
   "source": [
    "#Or we can use snakeviz to visualise the data, which displays the data on a browser page\n",
    "!pip3 install snakeviz\n",
    "!python3 -m snakeviz profile.stats --server"
   ]
  },
  {
   "cell_type": "code",
   "execution_count": null,
   "metadata": {},
   "outputs": [],
   "source": [
    "#---------- Profiling using line profiler ------------\n",
    "!pip3 install line_profiler\n",
    "!python3 -m kernprof -l diffusionWithProfile.py"
   ]
  },
  {
   "cell_type": "code",
   "execution_count": null,
   "metadata": {},
   "outputs": [],
   "source": [
    "#--------- 2.2: Memory profiler ------------\n",
    "!pip install memory_profiler\n",
    "!pip install psutil"
   ]
  },
  {
   "cell_type": "code",
   "execution_count": null,
   "metadata": {},
   "outputs": [],
   "source": [
    "# Memory profiler. Large overhead, so a smaller problem size was used\n",
    "!python -m memory_profiler diffusion_smaller.py"
   ]
  },
  {
   "cell_type": "code",
   "execution_count": null,
   "metadata": {},
   "outputs": [],
   "source": [
    "# This command saves the output to a file named mprofile_20240130... or similar\n",
    "!python -m mprof run diffusion.py"
   ]
  },
  {
   "cell_type": "code",
   "execution_count": null,
   "metadata": {},
   "outputs": [],
   "source": [
    "# Change the name of the file to be identical with the one produced by the previous command\n",
    "!python -m mprof plot mprofile_20240127154859"
   ]
  }
 ],
 "metadata": {
  "kernelspec": {
   "display_name": "Python 3",
   "language": "python",
   "name": "python3"
  },
  "language_info": {
   "codemirror_mode": {
    "name": "ipython",
    "version": 3
   },
   "file_extension": ".py",
   "mimetype": "text/x-python",
   "name": "python",
   "nbconvert_exporter": "python",
   "pygments_lexer": "ipython3",
   "version": "3.10.0"
  }
 },
 "nbformat": 4,
 "nbformat_minor": 2
}
